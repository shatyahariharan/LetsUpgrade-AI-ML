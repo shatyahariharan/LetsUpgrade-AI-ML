{
  "nbformat": 4,
  "nbformat_minor": 0,
  "metadata": {
    "colab": {
      "name": "Day 3 Assignment",
      "provenance": [],
      "collapsed_sections": []
    },
    "kernelspec": {
      "name": "python3",
      "display_name": "Python 3"
    }
  },
  "cells": [
    {
      "cell_type": "markdown",
      "metadata": {
        "id": "-O59vcqpV6rI",
        "colab_type": "text"
      },
      "source": [
        "Q1. program to subract two complex numbers"
      ]
    },
    {
      "cell_type": "code",
      "metadata": {
        "id": "d8JNgw8FRo9K",
        "colab_type": "code",
        "colab": {
          "base_uri": "https://localhost:8080/",
          "height": 34
        },
        "outputId": "8ebaa5b2-4c6a-4e14-f851-ff21561eb290"
      },
      "source": [
        "a=complex(5,6)\n",
        "b=complex(2,3)\n",
        "print(\"the subraction of the two complex is\",a-b)"
      ],
      "execution_count": null,
      "outputs": [
        {
          "output_type": "stream",
          "text": [
            "the subraction of the two complex is (3+3j)\n"
          ],
          "name": "stdout"
        }
      ]
    },
    {
      "cell_type": "markdown",
      "metadata": {
        "id": "DOEkdMqqWHLm",
        "colab_type": "text"
      },
      "source": [
        "Q2. program to find fourth root of a number\n"
      ]
    },
    {
      "cell_type": "code",
      "metadata": {
        "id": "R0OKDigPVrzT",
        "colab_type": "code",
        "colab": {
          "base_uri": "https://localhost:8080/",
          "height": 34
        },
        "outputId": "9ef7ac39-d570-47a8-a382-d261b1aade30"
      },
      "source": [
        "a=16\n",
        "b=a**(1/4)\n",
        "print(\"the fourth root the number is\",b)"
      ],
      "execution_count": null,
      "outputs": [
        {
          "output_type": "stream",
          "text": [
            "the fourth root the number is 2.0\n"
          ],
          "name": "stdout"
        }
      ]
    },
    {
      "cell_type": "markdown",
      "metadata": {
        "id": "flRIRQpqY7-P",
        "colab_type": "text"
      },
      "source": [
        "Q3.program to swap two numbers using temporary variable\n"
      ]
    },
    {
      "cell_type": "code",
      "metadata": {
        "id": "-VnqK8FLZNe8",
        "colab_type": "code",
        "colab": {
          "base_uri": "https://localhost:8080/",
          "height": 50
        },
        "outputId": "ba0e970d-15b5-4b49-8366-293001cc9ade"
      },
      "source": [
        "a=10\n",
        "b=5\n",
        "print(\"the variables a and b before swaping\",a,b)\n",
        "temp=a\n",
        "a=b\n",
        "b=temp\n",
        "print(\"the variables a and b after swaping\",a,b)\n",
        "\n"
      ],
      "execution_count": null,
      "outputs": [
        {
          "output_type": "stream",
          "text": [
            "the variable a and b before swaping 10 5\n",
            "the variables a and b after swaping 5 10\n"
          ],
          "name": "stdout"
        }
      ]
    },
    {
      "cell_type": "markdown",
      "metadata": {
        "id": "k25oZPpKayp6",
        "colab_type": "text"
      },
      "source": [
        "Q4.program to swap two numbers without using temporary variable"
      ]
    },
    {
      "cell_type": "code",
      "metadata": {
        "id": "y9_0jQF1bCGe",
        "colab_type": "code",
        "colab": {
          "base_uri": "https://localhost:8080/",
          "height": 50
        },
        "outputId": "bd7c637f-ee8e-41df-de3c-4f07c1b9a36b"
      },
      "source": [
        "a=15\n",
        "b=20\n",
        "print(\"the variables a and b before swaping\",a,b)\n",
        "a=a+b\n",
        "b=a-b\n",
        "a=a-b\n",
        "print(\"the variables a and b after swaping\",a,b)\n",
        "\n"
      ],
      "execution_count": null,
      "outputs": [
        {
          "output_type": "stream",
          "text": [
            "the variables a and b before swaping 15 20\n",
            "the variables a and b after swaping 20 15\n"
          ],
          "name": "stdout"
        }
      ]
    },
    {
      "cell_type": "markdown",
      "metadata": {
        "id": "R2K0cEEHgMQ2",
        "colab_type": "text"
      },
      "source": [
        "Q5. program to convert fahrenheit to kelvin and celsius"
      ]
    },
    {
      "cell_type": "code",
      "metadata": {
        "id": "2h2ObaX5gh72",
        "colab_type": "code",
        "colab": {
          "base_uri": "https://localhost:8080/",
          "height": 50
        },
        "outputId": "a244b6d4-11c7-4472-9813-2683d283b80f"
      },
      "source": [
        "f=100\n",
        "c = (f-32)*5/9\n",
        "print(\"convertion of fahrenheit to celsius\",c)\n",
        "k= 273.5 + c \n",
        "print(\"convertion of fahrenheit to kelvin\",k)\n"
      ],
      "execution_count": null,
      "outputs": [
        {
          "output_type": "stream",
          "text": [
            "convertion of fahrenheit to celsius 37.77777777777778\n",
            "convertion of fahrenheit to kelvin 311.27777777777777\n"
          ],
          "name": "stdout"
        }
      ]
    },
    {
      "cell_type": "markdown",
      "metadata": {
        "id": "g34o2hH53FT7",
        "colab_type": "text"
      },
      "source": [
        "Q6.program to demonstrate all the available data types in Python"
      ]
    },
    {
      "cell_type": "code",
      "metadata": {
        "id": "dLxpBUhJ3EDe",
        "colab_type": "code",
        "colab": {
          "base_uri": "https://localhost:8080/",
          "height": 101
        },
        "outputId": "c9955b88-0fc9-4a84-e43e-acd3de2c5fc7"
      },
      "source": [
        "a=10\n",
        "b=5.16\n",
        "c=complex(2,5)\n",
        "d=(1,1.1,2)\n",
        "e=[10.5,5,1,a]\n",
        "print(type(a))\n",
        "print(type(b))\n",
        "print(type(c))\n",
        "print(type(d))\n",
        "print(type(e))"
      ],
      "execution_count": 2,
      "outputs": [
        {
          "output_type": "stream",
          "text": [
            "<class 'int'>\n",
            "<class 'float'>\n",
            "<class 'complex'>\n",
            "<class 'tuple'>\n",
            "<class 'list'>\n"
          ],
          "name": "stdout"
        }
      ]
    },
    {
      "cell_type": "markdown",
      "metadata": {
        "id": "pyi8wt6B5Yih",
        "colab_type": "text"
      },
      "source": [
        "Q7. create Github profile and upload Githubs Assignment link"
      ]
    },
    {
      "cell_type": "markdown",
      "metadata": {
        "id": "Tx05JZFM7e8i",
        "colab_type": "text"
      },
      "source": [
        "1.   Sign up in the github using the email id\n",
        "2.   After creating the github profile in top right corner click add and create new repository\n",
        "3.   In the owner drop down select the account you wish to create repository on\n",
        "4.   Type the name of the repository as LetsUpgrade AI-ML\n",
        "5.   Now click on upload file and select the file to upload \n",
        "6.   Copy the link of the repository and paste it in the form and submit\n",
        "\n",
        "\n",
        "\n",
        "\n",
        "\n",
        "\n"
      ]
    },
    {
      "cell_type": "markdown",
      "metadata": {
        "id": "1KIssrdx-xjW",
        "colab_type": "text"
      },
      "source": [
        ""
      ]
    },
    {
      "cell_type": "markdown",
      "metadata": {
        "id": "esejt5c_9vRc",
        "colab_type": "text"
      },
      "source": [
        ""
      ]
    }
  ]
}