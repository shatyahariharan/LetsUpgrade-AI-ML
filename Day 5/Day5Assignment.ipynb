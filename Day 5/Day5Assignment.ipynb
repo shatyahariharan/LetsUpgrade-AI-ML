{
  "nbformat": 4,
  "nbformat_minor": 0,
  "metadata": {
    "colab": {
      "name": "Day5Assignment.ipynb",
      "provenance": [],
      "collapsed_sections": []
    },
    "kernelspec": {
      "name": "python3",
      "display_name": "Python 3"
    }
  },
  "cells": [
    {
      "cell_type": "markdown",
      "metadata": {
        "id": "PUBXWC6yl9XB",
        "colab_type": "text"
      },
      "source": [
        "**Q1.Write a Python program to find the first 20 non-even prime natural numbers.**\n",
        "\n"
      ]
    },
    {
      "cell_type": "code",
      "metadata": {
        "id": "hsoCtIRdVEZo",
        "colab_type": "code",
        "colab": {
          "base_uri": "https://localhost:8080/",
          "height": 151
        },
        "outputId": "1d014a3b-0493-42a0-8fce-a910b871b300"
      },
      "source": [
        "lower=int(input(\"Enter the starting value\"))\n",
        "upper=int(input(\"Enter the ending value\"))\n",
        "lower=1\n",
        "upper=20\n",
        "print(f\"the prime between {upper} and {lower}\")\n",
        "for num in range(lower,upper+1):\n",
        "  if num>2:\n",
        "    for i in range(2,num):\n",
        "      if num%i==0:\n",
        "        break\n",
        "    else:\n",
        "      print(num)"
      ],
      "execution_count": 13,
      "outputs": [
        {
          "output_type": "stream",
          "text": [
            "the prime between 20 and 1\n",
            "3\n",
            "5\n",
            "7\n",
            "11\n",
            "13\n",
            "17\n",
            "19\n"
          ],
          "name": "stdout"
        }
      ]
    },
    {
      "cell_type": "markdown",
      "metadata": {
        "id": "lDcEoGB2mMUX",
        "colab_type": "text"
      },
      "source": [
        "**Q2.Write a Python program to implement 15 functions of string.**"
      ]
    },
    {
      "cell_type": "code",
      "metadata": {
        "id": "ZFHkcuXUmfP7",
        "colab_type": "code",
        "colab": {
          "base_uri": "https://localhost:8080/",
          "height": 286
        },
        "outputId": "12dd7e17-a040-4387-899a-d70c654b9165"
      },
      "source": [
        "my_str='students are learning artificial intelligence and machine learning'\n",
        "print(my_str)\n",
        "\n",
        "print(my_str.upper())\n",
        "print(my_str.count('Students'))\n",
        "print(my_str.isnumeric())\n",
        "print(my_str.lower())\n",
        "print(my_str.swapcase())\n",
        "print(my_str.endswith('and'))\n",
        "print(my_str.replace('machine','deep'))\n",
        "print(my_str.isprintable())\n",
        "print(my_str.title())\n",
        "print(my_str.split())\n",
        "print(my_str.capitalize())\n",
        "print(my_str.center(100))\n",
        "print(my_str.find(\"and\"))\n",
        "print(my_str.isalpha())\n",
        "print(my_str.replace(\"students\",\"Sh_ha\"))"
      ],
      "execution_count": 16,
      "outputs": [
        {
          "output_type": "stream",
          "text": [
            "students are learning artificial intelligence and machine learning\n",
            "STUDENTS ARE LEARNING ARTIFICIAL INTELLIGENCE AND MACHINE LEARNING\n",
            "0\n",
            "False\n",
            "students are learning artificial intelligence and machine learning\n",
            "STUDENTS ARE LEARNING ARTIFICIAL INTELLIGENCE AND MACHINE LEARNING\n",
            "False\n",
            "students are learning artificial intelligence and deep learning\n",
            "True\n",
            "Students Are Learning Artificial Intelligence And Machine Learning\n",
            "['students', 'are', 'learning', 'artificial', 'intelligence', 'and', 'machine', 'learning']\n",
            "Students are learning artificial intelligence and machine learning\n",
            "                 students are learning artificial intelligence and machine learning                 \n",
            "46\n",
            "False\n",
            "Sh_ha are learning artificial intelligence and machine learning\n"
          ],
          "name": "stdout"
        }
      ]
    },
    {
      "cell_type": "markdown",
      "metadata": {
        "id": "l0ULbu1Fp4ls",
        "colab_type": "text"
      },
      "source": [
        "**Q3.Write a Python program to check if the given string is a Palindrome or Anagram or None of them.\n",
        "Display the message accordingly to the user.**"
      ]
    },
    {
      "cell_type": "code",
      "metadata": {
        "id": "4YrEmKWGqI-5",
        "colab_type": "code",
        "colab": {
          "base_uri": "https://localhost:8080/",
          "height": 67
        },
        "outputId": "3de7eba1-841f-4583-d064-4c219c961d99"
      },
      "source": [
        "a=input(\"Enter the first string\")\n",
        "b=input(\"Enter the second string\")\n",
        "x=[]\n",
        "for i in a:\n",
        "  x.append(i)\n",
        "if x==x[::-1]:\n",
        "  print('It is palandrome')\n",
        "elif sorted(a)==sorted(b):\n",
        "  print(\"It is a anagram\")\n",
        "else:\n",
        "  print(\"it is nither palandrome nor anagram\")\n"
      ],
      "execution_count": 22,
      "outputs": [
        {
          "output_type": "stream",
          "text": [
            "Enter the first stringthing\n",
            "Enter the second stringnight\n",
            "It is a anagram\n"
          ],
          "name": "stdout"
        }
      ]
    },
    {
      "cell_type": "markdown",
      "metadata": {
        "id": "jwu6lAS-20FN",
        "colab_type": "text"
      },
      "source": [
        "**Q4.Write a Python's user defined function that removes all the additional characters from the string\n",
        "and converts it finally to lower case using built-in lower(). eg: If the string is \"Dr. Darshan Ingle\n",
        "@AI-ML Trainer\", then the output be \"drdarshaningleaimltrainer\".**"
      ]
    },
    {
      "cell_type": "code",
      "metadata": {
        "id": "hGDm3lxD28x8",
        "colab_type": "code",
        "colab": {
          "base_uri": "https://localhost:8080/",
          "height": 50
        },
        "outputId": "85b59a5f-e16b-4fee-d352-3d706e750d50"
      },
      "source": [
        "name=input(\"Enter the string: \")\n",
        "sentence=\"\"\n",
        "for i in name:\n",
        "  if i.isalpha():\n",
        "    sentence+=i\n",
        "print(sentence.lower())"
      ],
      "execution_count": 27,
      "outputs": [
        {
          "output_type": "stream",
          "text": [
            "Enter the string: Hii..Shatya@LetsUpgrade-AI-ML\n",
            "hiishatyaletsupgradeaiml\n"
          ],
          "name": "stdout"
        }
      ]
    }
  ]
}