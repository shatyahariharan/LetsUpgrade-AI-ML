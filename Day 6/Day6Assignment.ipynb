{
  "nbformat": 4,
  "nbformat_minor": 0,
  "metadata": {
    "colab": {
      "name": "Day6Assignment.ipynb",
      "provenance": [],
      "collapsed_sections": []
    },
    "kernelspec": {
      "name": "python3",
      "display_name": "Python 3"
    }
  },
  "cells": [
    {
      "cell_type": "markdown",
      "metadata": {
        "id": "GVzwo3TTDdSF",
        "colab_type": "text"
      },
      "source": [
        "**Question 1:\n",
        "Assuming that we have some email addresses in the \"username@companyname.com\" format, please write program\n",
        "to print the company name of a given email address. Both user names and company names are composed of letters\n",
        "only.**"
      ]
    },
    {
      "cell_type": "code",
      "metadata": {
        "id": "x1OZHzVODVT-",
        "colab_type": "code",
        "colab": {
          "base_uri": "https://localhost:8080/",
          "height": 50
        },
        "outputId": "b14b3767-f6d1-46fb-b968-92faf197de85"
      },
      "source": [
        "email=input(\"Enter the email address:\")\n",
        "cp=email.split('@')[1]\n",
        "compname=cp.split('.')[0]\n",
        "print(compname)"
      ],
      "execution_count": 1,
      "outputs": [
        {
          "output_type": "stream",
          "text": [
            "Enter the email address:shatyahariharan@gmail.com\n",
            "gmail\n"
          ],
          "name": "stdout"
        }
      ]
    },
    {
      "cell_type": "markdown",
      "metadata": {
        "id": "_RWmEoM64KQp",
        "colab_type": "text"
      },
      "source": [
        "**Q2.Write a program that accepts a comma-separated sequence of words as input and prints the words in a comma\n",
        "separated sequence after sorting them alphabetically**"
      ]
    },
    {
      "cell_type": "code",
      "metadata": {
        "id": "4QmIc6jk4U7C",
        "colab_type": "code",
        "colab": {
          "base_uri": "https://localhost:8080/",
          "height": 50
        },
        "outputId": "ce7371d0-62d9-46da-8b0b-21920bbecbbc"
      },
      "source": [
        "words=input(\"Enter the words: \")\n",
        "words=words.split(',')\n",
        "words.sort()\n",
        "for i in words:\n",
        "  print(i,end=',')\n",
        "\n"
      ],
      "execution_count": 7,
      "outputs": [
        {
          "output_type": "stream",
          "text": [
            "Enter the words: shatya,class,fun,boys,hacker,colab\n",
            "boys,class,colab,fun,hacker,shatya,"
          ],
          "name": "stdout"
        }
      ]
    },
    {
      "cell_type": "markdown",
      "metadata": {
        "id": "w0jIO3sd8W8n",
        "colab_type": "text"
      },
      "source": [
        "**Q3.Sets**"
      ]
    },
    {
      "cell_type": "code",
      "metadata": {
        "id": "4Zn35r2I_wf0",
        "colab_type": "code",
        "colab": {
          "base_uri": "https://localhost:8080/",
          "height": 34
        },
        "outputId": "35ac958a-43c9-4e25-845f-ee541892bb9c"
      },
      "source": [
        "set1={\"nokia\",\"samsung\",\"moto\",\"micromax\"}\n",
        "set1.add(\"iphone\")\n",
        "print(set1)"
      ],
      "execution_count": 15,
      "outputs": [
        {
          "output_type": "stream",
          "text": [
            "{'nokia', 'micromax', 'moto', 'samsung', 'iphone'}\n"
          ],
          "name": "stdout"
        }
      ]
    },
    {
      "cell_type": "code",
      "metadata": {
        "id": "lInGHxkrAl9q",
        "colab_type": "code",
        "colab": {
          "base_uri": "https://localhost:8080/",
          "height": 34
        },
        "outputId": "ab456f46-a046-42ee-a5e7-0d859cefc7a9"
      },
      "source": [
        "print(len(set1))"
      ],
      "execution_count": 11,
      "outputs": [
        {
          "output_type": "stream",
          "text": [
            "5\n"
          ],
          "name": "stdout"
        }
      ]
    },
    {
      "cell_type": "code",
      "metadata": {
        "id": "Z2go3opUA7xw",
        "colab_type": "code",
        "colab": {
          "base_uri": "https://localhost:8080/",
          "height": 34
        },
        "outputId": "d5d225cb-132c-4336-8c12-9abc77609939"
      },
      "source": [
        "set1.remove(\"micromax\")\n",
        "print(set1)"
      ],
      "execution_count": 16,
      "outputs": [
        {
          "output_type": "stream",
          "text": [
            "{'nokia', 'moto', 'samsung', 'iphone'}\n"
          ],
          "name": "stdout"
        }
      ]
    },
    {
      "cell_type": "code",
      "metadata": {
        "id": "aB-5nY1WC4IK",
        "colab_type": "code",
        "colab": {
          "base_uri": "https://localhost:8080/",
          "height": 34
        },
        "outputId": "15b8f139-93d4-455a-e962-d5a34cf78c26"
      },
      "source": [
        "set2={\"dell\",\"hp\",\"mac\"}\n",
        "set3=set1.union(set2)\n",
        "print(set3)"
      ],
      "execution_count": 17,
      "outputs": [
        {
          "output_type": "stream",
          "text": [
            "{'nokia', 'hp', 'iphone', 'mac', 'moto', 'dell', 'samsung'}\n"
          ],
          "name": "stdout"
        }
      ]
    },
    {
      "cell_type": "code",
      "metadata": {
        "id": "XgZBnrQ6DX4j",
        "colab_type": "code",
        "colab": {
          "base_uri": "https://localhost:8080/",
          "height": 34
        },
        "outputId": "f3a7de56-0add-4280-f137-28396d41ae13"
      },
      "source": [
        "set3.clear()\n",
        "print(set3)"
      ],
      "execution_count": 18,
      "outputs": [
        {
          "output_type": "stream",
          "text": [
            "set()\n"
          ],
          "name": "stdout"
        }
      ]
    },
    {
      "cell_type": "markdown",
      "metadata": {
        "id": "qTER9MZNDha2",
        "colab_type": "text"
      },
      "source": [
        "**Q4.Given a list of n-1 numbers ranging from 1 to n, your task is to find the missing number. There are no duplicates.**"
      ]
    },
    {
      "cell_type": "code",
      "metadata": {
        "id": "ZwBPUIGZDu6S",
        "colab_type": "code",
        "colab": {
          "base_uri": "https://localhost:8080/",
          "height": 34
        },
        "outputId": "7a05a3d2-3dce-44d4-b412-dd0ed443b84a"
      },
      "source": [
        "def find_missing(lst): \n",
        "    return [x for x in range(lst[0], lst[-1]+1) if x not in lst] \n",
        "  \n",
        "lst = [1, 2, 3, 5, 7, 9, 10] \n",
        "print(\"The missing numbers are\",find_missing(lst)) "
      ],
      "execution_count": 24,
      "outputs": [
        {
          "output_type": "stream",
          "text": [
            "The missing numbers are [4, 6, 8]\n"
          ],
          "name": "stdout"
        }
      ]
    },
    {
      "cell_type": "markdown",
      "metadata": {
        "id": "xSdCMiXxQgML",
        "colab_type": "text"
      },
      "source": [
        "**Q5.With a given list L, write a program to print this list L after removing all duplicate values with original order reserved.**"
      ]
    },
    {
      "cell_type": "code",
      "metadata": {
        "id": "Dd0ImQEiQoGx",
        "colab_type": "code",
        "colab": {
          "base_uri": "https://localhost:8080/",
          "height": 34
        },
        "outputId": "55642608-5f09-4570-d316-954e52daa9df"
      },
      "source": [
        "def remove(duplicate):\n",
        "  org=[]\n",
        "  for i in duplicate:\n",
        "    if i not in org:\n",
        "      org.append(i)\n",
        "  return org\n",
        "duplicate=[1,2,5,3,45,5,3]\n",
        "print(\"The original list is\",remove(duplicate))"
      ],
      "execution_count": 27,
      "outputs": [
        {
          "output_type": "stream",
          "text": [
            "The original list is [1, 2, 5, 3, 45]\n"
          ],
          "name": "stdout"
        }
      ]
    }
  ]
}