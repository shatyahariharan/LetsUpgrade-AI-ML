{
  "nbformat": 4,
  "nbformat_minor": 0,
  "metadata": {
    "colab": {
      "name": "Day4Assignment.ipynb",
      "provenance": []
    },
    "kernelspec": {
      "name": "python3",
      "display_name": "Python 3"
    }
  },
  "cells": [
    {
      "cell_type": "markdown",
      "metadata": {
        "id": "kMbNhMRejOEA",
        "colab_type": "text"
      },
      "source": [
        "**Q1.Research on whether addition, subtraction, multiplication, division, floor division and modulo\n",
        "operations be performed on complex numbers. Based on your study, implement a Python\n",
        "program to demonstrate these operations.**"
      ]
    },
    {
      "cell_type": "code",
      "metadata": {
        "id": "bCRU_Sh9d-sA",
        "colab_type": "code",
        "colab": {
          "base_uri": "https://localhost:8080/",
          "height": 84
        },
        "outputId": "5d9ef957-d99c-4158-e583-83deca66f360"
      },
      "source": [
        "a=complex(10,5)\n",
        "b=complex(3,2)\n",
        "print(f'addition of {a} and {b} is',a+b)\n",
        "print(f'subraction of {a} and {b} is',a-b)\n",
        "print(f'multiplication of {a} and {b} is',a-b)\n",
        "print(f'division of {a} and {b} is',a/b)\n",
        "# print(f'floor division of {a} and {b} is',a//b)\n",
        "# print(f'modulo of {a} and {b} is',a%b)\n",
        "\n"
      ],
      "execution_count": 4,
      "outputs": [
        {
          "output_type": "stream",
          "text": [
            "addition of (10+5j) and (3+2j) is (13+7j)\n",
            "subraction of (10+5j) and (3+2j) is (7+3j)\n",
            "multiplication of (10+5j) and (3+2j) is (7+3j)\n",
            "division of (10+5j) and (3+2j) is (3.0769230769230766-0.3846153846153845j)\n"
          ],
          "name": "stdout"
        }
      ]
    },
    {
      "cell_type": "markdown",
      "metadata": {
        "id": "a2IRicA2lDLK",
        "colab_type": "text"
      },
      "source": [
        "Floor division and modulo cannot be performed in complex numbers "
      ]
    },
    {
      "cell_type": "markdown",
      "metadata": {
        "id": "Ufs3GeiZmowO",
        "colab_type": "text"
      },
      "source": [
        "**Q2.Research on range() functions and its parameters. Create a markdown cell and write in your own\n",
        "words what you understand about it. Implement a small\n",
        "program of your choice on the same.**"
      ]
    },
    {
      "cell_type": "markdown",
      "metadata": {
        "id": "uDlwMy73ndkS",
        "colab_type": "text"
      },
      "source": [
        "Range funtion returns a sequence of number by default starting from 0 and increment by 1 and stops before a specific number\n",
        "\n"
      ]
    },
    {
      "cell_type": "markdown",
      "metadata": {
        "id": "AIJftwnJoVeH",
        "colab_type": "text"
      },
      "source": [
        "**Syntax**"
      ]
    },
    {
      "cell_type": "markdown",
      "metadata": {
        "id": "8rojRpZ5obyC",
        "colab_type": "text"
      },
      "source": [
        "range(start,stop,step)"
      ]
    },
    {
      "cell_type": "markdown",
      "metadata": {
        "id": "gVCOMAm8okir",
        "colab_type": "text"
      },
      "source": [
        "\n",
        "\n",
        "*   start-specify which position to start\n",
        "*   stop-specify which position to stop\n",
        "*   step-specify the increment value\n",
        "\n",
        "\n"
      ]
    },
    {
      "cell_type": "markdown",
      "metadata": {
        "id": "afX864HAqrbm",
        "colab_type": "text"
      },
      "source": [
        "The below example prints the multiple of 5"
      ]
    },
    {
      "cell_type": "code",
      "metadata": {
        "id": "n8dJHmz6pPqx",
        "colab_type": "code",
        "colab": {
          "base_uri": "https://localhost:8080/",
          "height": 185
        },
        "outputId": "32a28051-b08f-4cb4-abf9-066fed6969fd"
      },
      "source": [
        "for i in range (0,50,5):\n",
        "    print(i)"
      ],
      "execution_count": 11,
      "outputs": [
        {
          "output_type": "stream",
          "text": [
            "0\n",
            "5\n",
            "10\n",
            "15\n",
            "20\n",
            "25\n",
            "30\n",
            "35\n",
            "40\n",
            "45\n"
          ],
          "name": "stdout"
        }
      ]
    },
    {
      "cell_type": "markdown",
      "metadata": {
        "id": "cHhVq1IPq6WV",
        "colab_type": "text"
      },
      "source": [
        "**Q3.Consider two numbers. Perform their subtraction and if the result of subtraction is greater than\n",
        "25, print their multiplication result else print their division result.**"
      ]
    },
    {
      "cell_type": "code",
      "metadata": {
        "id": "X_HxLviIm5zJ",
        "colab_type": "code",
        "colab": {
          "base_uri": "https://localhost:8080/",
          "height": 50
        },
        "outputId": "8229d0de-d388-4959-bdab-3c547ed827ce"
      },
      "source": [
        "a=100\n",
        "b=50\n",
        "c=a-b\n",
        "print(f'the subtraction of {a} and {b} is',c)\n",
        "if c>25:\n",
        "  print(f'the multiplication of {a} and {b} is',a*b)\n",
        "else:\n",
        "  print(f'the division of {a} and {b} is',a/b)\n",
        "  "
      ],
      "execution_count": 12,
      "outputs": [
        {
          "output_type": "stream",
          "text": [
            "the subtraction of 100 and 50 is 50\n",
            "the multiplication of 100 and 50 is 5000\n"
          ],
          "name": "stdout"
        }
      ]
    },
    {
      "cell_type": "markdown",
      "metadata": {
        "id": "jWp7rjThsOHc",
        "colab_type": "text"
      },
      "source": [
        "**Q4.Consider a list of 10 elements of integer values. If the number in the list is divisible by 2, print the\n",
        "result as \"square of that number minus 2\".**\n"
      ]
    },
    {
      "cell_type": "code",
      "metadata": {
        "id": "yyAFpMNwsWc2",
        "colab_type": "code",
        "colab": {
          "base_uri": "https://localhost:8080/",
          "height": 67
        },
        "outputId": "aa527506-4cc7-416e-c9a3-b9593885f5e3"
      },
      "source": [
        "a=[10,15,21,2,3,23,11,22,7,5]\n",
        "for i in a:\n",
        "  if i%2==0:\n",
        "    print(f'square of {i} number minus 2',i**2-2)\n"
      ],
      "execution_count": 15,
      "outputs": [
        {
          "output_type": "stream",
          "text": [
            "square of 10 number minus 2 98\n",
            "square of 2 number minus 2 2\n",
            "square of 22 number minus 2 482\n"
          ],
          "name": "stdout"
        }
      ]
    },
    {
      "cell_type": "markdown",
      "metadata": {
        "id": "bucDOUa3u5Y0",
        "colab_type": "text"
      },
      "source": [
        "**Q5.Consider a list of 10 elements. Print all the elements in the list which are greater than 7 when that\n",
        "number is divided 2.**"
      ]
    },
    {
      "cell_type": "code",
      "metadata": {
        "id": "cQAK1IzhvG5v",
        "colab_type": "code",
        "colab": {
          "base_uri": "https://localhost:8080/",
          "height": 118
        },
        "outputId": "35a402d0-02f1-432e-996d-c675e26f8963"
      },
      "source": [
        "a=[10,15,20,12,13,11,56,88,60,30]\n",
        "for i in a:\n",
        "  if i/2>7:\n",
        "    print(i)"
      ],
      "execution_count": 17,
      "outputs": [
        {
          "output_type": "stream",
          "text": [
            "15\n",
            "20\n",
            "56\n",
            "88\n",
            "60\n",
            "30\n"
          ],
          "name": "stdout"
        }
      ]
    }
  ]
}